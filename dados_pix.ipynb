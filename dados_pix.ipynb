{
 "cells": [
  {
   "cell_type": "code",
   "execution_count": null,
   "metadata": {},
   "outputs": [],
   "source": [
    "import pandas as pd\n",
    "import matplotlib.pyplot as plt\n",
    "\n",
    "caminho_do_arquivo = r\"data\\pix_202408261208.csv\"\n",
    "dados = pd.read_csv(caminho_do_arquivo)\n",
    "\n",
    "dados['data'] = pd.to_datetime(dados['data'])\n",
    "dados['ano'] = dados['data'].dt.year\n",
    "\n",
    "dados_filtrados = dados[dados['id_pix_status'] == 2]\n",
    "\n",
    "df_valor_pix = dados_filtrados.groupby('ano')[['valor']].sum().sort_values('ano')\n",
    "\n"
   ]
  },
  {
   "cell_type": "markdown",
   "metadata": {},
   "source": [
    "Gera gráfico do volume total de pix por ano"
   ]
  },
  {
   "cell_type": "code",
   "execution_count": null,
   "metadata": {},
   "outputs": [],
   "source": [
    "df_valor_pix.plot(kind='line', figsize=(14,10), color='gray');\n",
    "plt.legend()\n",
    "\n",
    "plt.savefig('grafico_evolucao_pix.png', format='png')\n",
    "\n",
    "# Exibir o gráfico\n",
    "plt.show()\n"
   ]
  },
  {
   "cell_type": "markdown",
   "metadata": {},
   "source": [
    "Gera gráfico do valor médio de pix por ano"
   ]
  },
  {
   "cell_type": "code",
   "execution_count": null,
   "metadata": {},
   "outputs": [],
   "source": [
    "df_valor_pix_medio = dados_filtrados.groupby('ano')[['valor']].mean().sort_values('ano')\n",
    "\n",
    "ax= df_valor_pix_medio.plot(kind='line', figsize=(14,10), color='gray', label='Valores por Ano')\n",
    "\n",
    "# Adicionar legenda\n",
    "ax.legend(loc='upper right')\n",
    "\n",
    "plt.savefig('grafico_valor_medio_pix.png', format='png')\n",
    "\n",
    "# Exibir o gráfico\n",
    "plt.show()"
   ]
  },
  {
   "cell_type": "markdown",
   "metadata": {},
   "source": [
    "Volume de Pix por ano"
   ]
  },
  {
   "cell_type": "code",
   "execution_count": null,
   "metadata": {},
   "outputs": [],
   "source": [
    "df_valor_pix_medio = dados_filtrados.groupby('ano')[['valor']].count().sort_values('ano')\n",
    "\n",
    "ax= df_valor_pix_medio.plot(kind='line', figsize=(14,10), color='gray', label='Volume por Ano')\n",
    "\n",
    "# Adicionar legenda\n",
    "ax.legend(loc='upper right')\n",
    "\n",
    "plt.savefig('grafico_volume_total_pix.png', format='png')\n",
    "\n",
    "# Exibir o gráfico\n",
    "plt.show()"
   ]
  }
 ],
 "metadata": {
  "kernelspec": {
   "display_name": "venv",
   "language": "python",
   "name": "python3"
  },
  "language_info": {
   "codemirror_mode": {
    "name": "ipython",
    "version": 3
   },
   "file_extension": ".py",
   "mimetype": "text/x-python",
   "name": "python",
   "nbconvert_exporter": "python",
   "pygments_lexer": "ipython3",
   "version": "3.12.5"
  }
 },
 "nbformat": 4,
 "nbformat_minor": 2
}
