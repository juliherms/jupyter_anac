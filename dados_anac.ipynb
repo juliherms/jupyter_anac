{
 "cells": [
  {
   "cell_type": "markdown",
   "metadata": {},
   "source": [
    "Realiza a leitura de um arquivo JSON dos dados públicos do governo"
   ]
  },
  {
   "cell_type": "code",
   "execution_count": 34,
   "metadata": {},
   "outputs": [
    {
     "data": {
      "text/html": [
       "<div>\n",
       "<style scoped>\n",
       "    .dataframe tbody tr th:only-of-type {\n",
       "        vertical-align: middle;\n",
       "    }\n",
       "\n",
       "    .dataframe tbody tr th {\n",
       "        vertical-align: top;\n",
       "    }\n",
       "\n",
       "    .dataframe thead th {\n",
       "        text-align: right;\n",
       "    }\n",
       "</style>\n",
       "<table border=\"1\" class=\"dataframe\">\n",
       "  <thead>\n",
       "    <tr style=\"text-align: right;\">\n",
       "      <th></th>\n",
       "      <th>Numero_da_Ocorrencia</th>\n",
       "      <th>Classificacao_da_Ocorrencia</th>\n",
       "      <th>Data_da_Ocorrencia</th>\n",
       "      <th>Municipio</th>\n",
       "      <th>UF</th>\n",
       "      <th>Regiao</th>\n",
       "      <th>Nome_do_Fabricante</th>\n",
       "    </tr>\n",
       "  </thead>\n",
       "  <tbody>\n",
       "    <tr>\n",
       "      <th>0</th>\n",
       "      <td>7762</td>\n",
       "      <td>Incidente</td>\n",
       "      <td>2018-03-21</td>\n",
       "      <td>SÃO PAULO</td>\n",
       "      <td>SP</td>\n",
       "      <td>Sudeste</td>\n",
       "      <td>AGUSTA</td>\n",
       "    </tr>\n",
       "    <tr>\n",
       "      <th>1</th>\n",
       "      <td>7759</td>\n",
       "      <td>Acidente</td>\n",
       "      <td>2018-03-14</td>\n",
       "      <td>MONTES CLAROS</td>\n",
       "      <td>MG</td>\n",
       "      <td>Sudeste</td>\n",
       "      <td>CESSNA AIRCRAFT</td>\n",
       "    </tr>\n",
       "    <tr>\n",
       "      <th>2</th>\n",
       "      <td>7758</td>\n",
       "      <td>Acidente</td>\n",
       "      <td>2018-01-26</td>\n",
       "      <td>INACIOLÂNDIA</td>\n",
       "      <td>GO</td>\n",
       "      <td>Centro-Oeste</td>\n",
       "      <td>CESSNA AIRCRAFT</td>\n",
       "    </tr>\n",
       "  </tbody>\n",
       "</table>\n",
       "</div>"
      ],
      "text/plain": [
       "   Numero_da_Ocorrencia Classificacao_da_Ocorrencia Data_da_Ocorrencia  \\\n",
       "0                  7762                   Incidente         2018-03-21   \n",
       "1                  7759                    Acidente         2018-03-14   \n",
       "2                  7758                    Acidente         2018-01-26   \n",
       "\n",
       "       Municipio  UF        Regiao Nome_do_Fabricante  \n",
       "0      SÃO PAULO  SP       Sudeste             AGUSTA  \n",
       "1  MONTES CLAROS  MG       Sudeste    CESSNA AIRCRAFT  \n",
       "2   INACIOLÂNDIA  GO  Centro-Oeste    CESSNA AIRCRAFT  "
      ]
     },
     "execution_count": 34,
     "metadata": {},
     "output_type": "execute_result"
    }
   ],
   "source": [
    "import pandas as pd\n",
    "import psycopg2\n",
    "\n",
    "# pd.set_option('display.max_columns', None) # Exibe todas as colunas\n",
    "\n",
    "caminho_do_arquivo = r\"data\\V_OCORRENCIA_AMPLA.json\"\n",
    "df = pd.read_json(caminho_do_arquivo, encoding='utf-8-sig')\n",
    "\n",
    "# fltra as colunas que devme ser exibidas\n",
    "colunas = ['Numero_da_Ocorrencia','Classificacao_da_Ocorrência','Data_da_Ocorrencia','Municipio','UF','Regiao','Nome_do_Fabricante']\n",
    "df = df[colunas]\n",
    "\n",
    "# reonmeia das colunas\n",
    "df.rename(columns={'Classificacao_da_Ocorrência':'Classificacao_da_Ocorrencia'}, inplace=True)\n",
    "\n",
    "# df.head(3)\n"
   ]
  },
  {
   "cell_type": "markdown",
   "metadata": {},
   "source": [
    "Realiza a configuração e conexão com o banco de dados e faz a carga dos dados extraídos do JSON"
   ]
  },
  {
   "cell_type": "code",
   "execution_count": 35,
   "metadata": {},
   "outputs": [],
   "source": [
    "# Parâmetros de conexão\n",
    "dbname    = 'dados'\n",
    "user      = 'postgres'\n",
    "password  = '12345'\n",
    "host      = 'localhost'\n",
    "port      = '5432'\n",
    "\n",
    "conn = psycopg2.connect(dbname=dbname,\n",
    "                        user=user,\n",
    "                        password=password,\n",
    "                        host=host,\n",
    "                        port=port)\n",
    "cur = conn.cursor()\n",
    "cur.execute('delete from anac')\n",
    "\n",
    "for indice,coluna in df.iterrows():\n",
    "    cur.execute(\"\"\"\n",
    "                insert into anac (\n",
    "                    numero_da_ocorrencia,\n",
    "                    classificacao_da_ocorrencia,\n",
    "                    data_da_ocorrencia,\n",
    "                    municipio,\n",
    "                    uf,\n",
    "                    regiao,\n",
    "                    nome_do_fabricante\n",
    "                ) VALUES (%s,%s,%s,%s,%s,%s,%s) \n",
    "                \"\"\",(\n",
    "                    coluna[\"Numero_da_Ocorrencia\"],\n",
    "                    coluna[\"Classificacao_da_Ocorrencia\"],\n",
    "                    coluna[\"Data_da_Ocorrencia\"],\n",
    "                    coluna[\"Municipio\"],\n",
    "                    coluna[\"UF\"],\n",
    "                    coluna[\"Regiao\"],\n",
    "                    coluna[\"Nome_do_Fabricante\"],\n",
    "                    )\n",
    "                )\n",
    "\n",
    "conn.commit()"
   ]
  },
  {
   "cell_type": "code",
   "execution_count": 36,
   "metadata": {},
   "outputs": [],
   "source": [
    "# fecha o cursor e a conexão\n",
    "cur.close()\n",
    "conn.close()"
   ]
  }
 ],
 "metadata": {
  "kernelspec": {
   "display_name": "venv",
   "language": "python",
   "name": "python3"
  },
  "language_info": {
   "codemirror_mode": {
    "name": "ipython",
    "version": 3
   },
   "file_extension": ".py",
   "mimetype": "text/x-python",
   "name": "python",
   "nbconvert_exporter": "python",
   "pygments_lexer": "ipython3",
   "version": "3.12.5"
  }
 },
 "nbformat": 4,
 "nbformat_minor": 2
}
