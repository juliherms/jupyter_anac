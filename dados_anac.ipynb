{
 "cells": [
  {
   "cell_type": "markdown",
   "metadata": {},
   "source": [
    "Realiza a leitura de um arquivo JSON dos dados públicos do governo"
   ]
  },
  {
   "cell_type": "code",
   "execution_count": null,
   "metadata": {},
   "outputs": [],
   "source": [
    "import pandas as pd\n",
    "\n",
    "pd.set_option('display.max_columns', None) # Exibe todas as colunas\n",
    "\n",
    "caminho_do_arquivo = r\"data\\V_OCORRENCIA_AMPLA.json\"\n",
    "df = pd.read_json(caminho_do_arquivo, encoding='utf-8-sig')\n",
    "\n",
    "# fltra as colunas que devme ser exibidas\n",
    "colunas = ['Numero_da_Ocorrencia','Classificacao_da_Ocorrência','Data_da_Ocorrencia','Municipio','UF','Regiao','Nome_do_Fabricante']\n",
    "df = df[colunas]\n",
    "\n",
    "# reonmeia das colunas\n",
    "df.rename(columns={'Classificacao_da_Ocorrência':'Classificacao_da_Ocorrencia'}, inplace=True)\n",
    "\n",
    "df.head(3)\n"
   ]
  },
  {
   "cell_type": "markdown",
   "metadata": {},
   "source": [
    "Realiza a configuração e conexão com o banco de dados e faz a carga dos dados extraídos do JSON"
   ]
  },
  {
   "cell_type": "code",
   "execution_count": 26,
   "metadata": {},
   "outputs": [],
   "source": [
    "import psycopg2\n",
    "\n",
    "# Parâmetros de conexão\n",
    "dbname    = 'dados'\n",
    "user      = 'postgres'\n",
    "password  = '12345'\n",
    "host      = 'localhost'\n",
    "port      = '5432'\n",
    "\n",
    "# Criar uma conexão\n",
    "conn = psycopg2.connect(dbname=dbname,\n",
    "                        user=user,\n",
    "                        password=password,\n",
    "                        host=host,\n",
    "                        port=port)\n",
    "\n",
    "cur = conn.cursor() # cria um cursor para manipular os dados\n",
    "\n",
    "for indice,coluna in df.iterrows():\n",
    "    cur.execute(\"\"\"\n",
    "                insert into anac (\n",
    "                    numero_da_ocorrencia,\n",
    "                    classificacao_da_ocorrencia,\n",
    "                    data_da_ocorrencia,\n",
    "                    municipio,\n",
    "                    uf,\n",
    "                    regiao,\n",
    "                    nome_do_fabricante\n",
    "                ) VALUES (%s,%s,%s,%s,%s,%s,%s) \n",
    "                \"\"\",(\n",
    "                    coluna[\"Numero_da_Ocorrencia\"],\n",
    "                    coluna[\"Classificacao_da_Ocorrencia\"],\n",
    "                    coluna[\"Data_da_Ocorrencia\"],\n",
    "                    coluna[\"Municipio\"],\n",
    "                    coluna[\"UF\"],\n",
    "                    coluna[\"Regiao\"],\n",
    "                    coluna[\"Nome_do_Fabricante\"],\n",
    "                     )\n",
    "                )\n",
    "\n",
    "conn.commit() # efetiva as alterações de fato"
   ]
  },
  {
   "cell_type": "code",
   "execution_count": null,
   "metadata": {},
   "outputs": [],
   "source": [
    "# fecha o cursor e a conexão\n",
    "cur.close()\n",
    "conn.close()"
   ]
  }
 ],
 "metadata": {
  "kernelspec": {
   "display_name": "venv",
   "language": "python",
   "name": "python3"
  },
  "language_info": {
   "codemirror_mode": {
    "name": "ipython",
    "version": 3
   },
   "file_extension": ".py",
   "mimetype": "text/x-python",
   "name": "python",
   "nbconvert_exporter": "python",
   "pygments_lexer": "ipython3",
   "version": "3.12.5"
  }
 },
 "nbformat": 4,
 "nbformat_minor": 2
}
